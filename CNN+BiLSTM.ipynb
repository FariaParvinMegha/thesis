{
  "nbformat": 4,
  "nbformat_minor": 0,
  "metadata": {
    "colab": {
      "provenance": [],
      "gpuType": "T4",
      "authorship_tag": "ABX9TyMn0ZJ3pNxPw5cvddujwZd7",
      "include_colab_link": true
    },
    "kernelspec": {
      "name": "python3",
      "display_name": "Python 3"
    },
    "language_info": {
      "name": "python"
    },
    "accelerator": "GPU"
  },
  "cells": [
    {
      "cell_type": "markdown",
      "metadata": {
        "id": "view-in-github",
        "colab_type": "text"
      },
      "source": [
        "<a href=\"https://colab.research.google.com/github/FariaParvinMegha/thesis/blob/main/CNN%2BBiLSTM.ipynb\" target=\"_parent\"><img src=\"https://colab.research.google.com/assets/colab-badge.svg\" alt=\"Open In Colab\"/></a>"
      ]
    },
    {
      "cell_type": "code",
      "source": [
        "from google.colab import drive\n",
        "drive.mount('/content/drive')"
      ],
      "metadata": {
        "colab": {
          "base_uri": "https://localhost:8080/"
        },
        "id": "jVO74sRktnld",
        "outputId": "34468386-543a-45c8-b431-5e980fef2835"
      },
      "execution_count": 2,
      "outputs": [
        {
          "output_type": "stream",
          "name": "stdout",
          "text": [
            "Mounted at /content/drive\n"
          ]
        }
      ]
    },
    {
      "cell_type": "code",
      "source": [
        "pip install git+https://github.com/forrestbao/pyeeg.git\n"
      ],
      "metadata": {
        "colab": {
          "base_uri": "https://localhost:8080/"
        },
        "id": "mG56eqwyvGBK",
        "outputId": "e9329b72-adb7-47b4-b91a-e167c17f3fa1"
      },
      "execution_count": 5,
      "outputs": [
        {
          "output_type": "stream",
          "name": "stdout",
          "text": [
            "Collecting git+https://github.com/forrestbao/pyeeg.git\n",
            "  Cloning https://github.com/forrestbao/pyeeg.git to /tmp/pip-req-build-ac56nkii\n",
            "  Running command git clone --filter=blob:none --quiet https://github.com/forrestbao/pyeeg.git /tmp/pip-req-build-ac56nkii\n",
            "  Resolved https://github.com/forrestbao/pyeeg.git to commit a6c18bb093e4748f9d9c208535a6ae024a0802b8\n",
            "  Preparing metadata (setup.py) ... \u001b[?25l\u001b[?25hdone\n",
            "Requirement already satisfied: numpy>=1.9.2 in /usr/local/lib/python3.10/dist-packages (from pyeeg==0.4.4) (1.23.5)\n",
            "Building wheels for collected packages: pyeeg\n",
            "  Building wheel for pyeeg (setup.py) ... \u001b[?25l\u001b[?25hdone\n",
            "  Created wheel for pyeeg: filename=pyeeg-0.4.4-py2.py3-none-any.whl size=28111 sha256=d422f73ea048ae8ff1552f22523061dd79f578e838640360f6634a57511a153c\n",
            "  Stored in directory: /tmp/pip-ephem-wheel-cache-6hbncn8s/wheels/a8/c4/1a/cee09dcc12a11620066d35ace42e3c1e3bfbcc1db3a0ce7788\n",
            "Successfully built pyeeg\n",
            "Installing collected packages: pyeeg\n",
            "Successfully installed pyeeg-0.4.4\n"
          ]
        }
      ]
    },
    {
      "cell_type": "code",
      "source": [
        "import numpy as np\n",
        "import pyeeg as pe\n",
        "import pickle as pickle\n",
        "import pandas as pd\n",
        "import math\n",
        "from sklearn.preprocessing import normalize\n",
        "\n",
        "import os\n",
        "import time"
      ],
      "metadata": {
        "id": "t_2nD0BTvUXp"
      },
      "execution_count": 7,
      "outputs": []
    },
    {
      "cell_type": "code",
      "source": [
        "channel = [1,2,4,5,8,10,15,21,22,25,26,27,28,31,32]\n",
        "band = [4,8,13,22,30,45] #5 bands\n",
        "window_size = 256 #Averaging band power of 2 sec\n",
        "step_size = 16 #Each 0.125 sec update once\n",
        "sample_rate = 128 #Sampling rate of 128 Hz\n",
        "subjectList = ['01','02','03','04','05','06','07','08','09','10','11','12','13','14','15','16','17','18','19','20','21','22','23','24','25','26','27','28','29','30','31','32']\n"
      ],
      "metadata": {
        "id": "JAZssG5axCiQ"
      },
      "execution_count": 8,
      "outputs": []
    },
    {
      "cell_type": "code",
      "source": [
        "\n",
        "# Directory containing your data files\n",
        "data_dir = '/content/drive/MyDrive/data_preprocessed_python'\n",
        "\n",
        "# List of file names (assuming your files are named s01.dat, s02.dat, ..., s32.dat)\n",
        "file_names = ['s{:02d}.dat'.format(i) for i in range(1, 33)]\n",
        "\n",
        "for file_name in file_names:\n",
        "    file_path = os.path.join(data_dir, file_name)\n",
        "\n",
        "    with open(file_path, 'rb') as file:\n",
        "        subject = pickle.load(file, encoding='latin1')\n",
        "\n",
        "        eeg_data = []\n",
        "        eeg_labels = []\n",
        "\n",
        "        for i in range(0, 40):\n",
        "            eeg_data.append(subject[\"data\"][i])\n",
        "            eeg_labels.append(subject[\"labels\"][i])\n",
        "\n",
        "        print(\"Processed:\", file_name)\n",
        "        print(\"EEG Data Shape:\", np.array(eeg_data).shape)\n",
        "        print(\"EEG Labels Shape:\", np.array(eeg_labels).shape)\n",
        "\n",
        "        # Modify the file name for saving\n",
        "        save_name = file_name.replace('.dat', '_.npy')\n",
        "        save_path = os.path.join(data_dir, save_name)\n",
        "\n",
        "        np.save(save_path, eeg_data, allow_pickle=True, fix_imports=True)\n",
        "\n",
        "        print(\"Saved:\", save_name)\n",
        "        print()\n",
        "\n"
      ],
      "metadata": {
        "colab": {
          "base_uri": "https://localhost:8080/"
        },
        "id": "ehLCt31eP_Nb",
        "outputId": "314abc35-e199-4a90-fb10-3d5fed28c382"
      },
      "execution_count": 9,
      "outputs": [
        {
          "output_type": "stream",
          "name": "stdout",
          "text": [
            "Processed: s01.dat\n",
            "EEG Data Shape: (40, 40, 8064)\n",
            "EEG Labels Shape: (40, 4)\n",
            "Saved: s01_.npy\n",
            "\n",
            "Processed: s02.dat\n",
            "EEG Data Shape: (40, 40, 8064)\n",
            "EEG Labels Shape: (40, 4)\n",
            "Saved: s02_.npy\n",
            "\n",
            "Processed: s03.dat\n",
            "EEG Data Shape: (40, 40, 8064)\n",
            "EEG Labels Shape: (40, 4)\n",
            "Saved: s03_.npy\n",
            "\n",
            "Processed: s04.dat\n",
            "EEG Data Shape: (40, 40, 8064)\n",
            "EEG Labels Shape: (40, 4)\n",
            "Saved: s04_.npy\n",
            "\n",
            "Processed: s05.dat\n",
            "EEG Data Shape: (40, 40, 8064)\n",
            "EEG Labels Shape: (40, 4)\n",
            "Saved: s05_.npy\n",
            "\n",
            "Processed: s06.dat\n",
            "EEG Data Shape: (40, 40, 8064)\n",
            "EEG Labels Shape: (40, 4)\n",
            "Saved: s06_.npy\n",
            "\n",
            "Processed: s07.dat\n",
            "EEG Data Shape: (40, 40, 8064)\n",
            "EEG Labels Shape: (40, 4)\n",
            "Saved: s07_.npy\n",
            "\n",
            "Processed: s08.dat\n",
            "EEG Data Shape: (40, 40, 8064)\n",
            "EEG Labels Shape: (40, 4)\n",
            "Saved: s08_.npy\n",
            "\n",
            "Processed: s09.dat\n",
            "EEG Data Shape: (40, 40, 8064)\n",
            "EEG Labels Shape: (40, 4)\n",
            "Saved: s09_.npy\n",
            "\n",
            "Processed: s10.dat\n",
            "EEG Data Shape: (40, 40, 8064)\n",
            "EEG Labels Shape: (40, 4)\n",
            "Saved: s10_.npy\n",
            "\n",
            "Processed: s11.dat\n",
            "EEG Data Shape: (40, 40, 8064)\n",
            "EEG Labels Shape: (40, 4)\n",
            "Saved: s11_.npy\n",
            "\n",
            "Processed: s12.dat\n",
            "EEG Data Shape: (40, 40, 8064)\n",
            "EEG Labels Shape: (40, 4)\n",
            "Saved: s12_.npy\n",
            "\n",
            "Processed: s13.dat\n",
            "EEG Data Shape: (40, 40, 8064)\n",
            "EEG Labels Shape: (40, 4)\n",
            "Saved: s13_.npy\n",
            "\n",
            "Processed: s14.dat\n",
            "EEG Data Shape: (40, 40, 8064)\n",
            "EEG Labels Shape: (40, 4)\n",
            "Saved: s14_.npy\n",
            "\n",
            "Processed: s15.dat\n",
            "EEG Data Shape: (40, 40, 8064)\n",
            "EEG Labels Shape: (40, 4)\n",
            "Saved: s15_.npy\n",
            "\n",
            "Processed: s16.dat\n",
            "EEG Data Shape: (40, 40, 8064)\n",
            "EEG Labels Shape: (40, 4)\n",
            "Saved: s16_.npy\n",
            "\n",
            "Processed: s17.dat\n",
            "EEG Data Shape: (40, 40, 8064)\n",
            "EEG Labels Shape: (40, 4)\n",
            "Saved: s17_.npy\n",
            "\n",
            "Processed: s18.dat\n",
            "EEG Data Shape: (40, 40, 8064)\n",
            "EEG Labels Shape: (40, 4)\n",
            "Saved: s18_.npy\n",
            "\n",
            "Processed: s19.dat\n",
            "EEG Data Shape: (40, 40, 8064)\n",
            "EEG Labels Shape: (40, 4)\n",
            "Saved: s19_.npy\n",
            "\n",
            "Processed: s20.dat\n",
            "EEG Data Shape: (40, 40, 8064)\n",
            "EEG Labels Shape: (40, 4)\n",
            "Saved: s20_.npy\n",
            "\n",
            "Processed: s21.dat\n",
            "EEG Data Shape: (40, 40, 8064)\n",
            "EEG Labels Shape: (40, 4)\n",
            "Saved: s21_.npy\n",
            "\n",
            "Processed: s22.dat\n",
            "EEG Data Shape: (40, 40, 8064)\n",
            "EEG Labels Shape: (40, 4)\n",
            "Saved: s22_.npy\n",
            "\n",
            "Processed: s23.dat\n",
            "EEG Data Shape: (40, 40, 8064)\n",
            "EEG Labels Shape: (40, 4)\n",
            "Saved: s23_.npy\n",
            "\n",
            "Processed: s24.dat\n",
            "EEG Data Shape: (40, 40, 8064)\n",
            "EEG Labels Shape: (40, 4)\n",
            "Saved: s24_.npy\n",
            "\n",
            "Processed: s25.dat\n",
            "EEG Data Shape: (40, 40, 8064)\n",
            "EEG Labels Shape: (40, 4)\n",
            "Saved: s25_.npy\n",
            "\n",
            "Processed: s26.dat\n",
            "EEG Data Shape: (40, 40, 8064)\n",
            "EEG Labels Shape: (40, 4)\n",
            "Saved: s26_.npy\n",
            "\n",
            "Processed: s27.dat\n",
            "EEG Data Shape: (40, 40, 8064)\n",
            "EEG Labels Shape: (40, 4)\n",
            "Saved: s27_.npy\n",
            "\n",
            "Processed: s28.dat\n",
            "EEG Data Shape: (40, 40, 8064)\n",
            "EEG Labels Shape: (40, 4)\n",
            "Saved: s28_.npy\n",
            "\n",
            "Processed: s29.dat\n",
            "EEG Data Shape: (40, 40, 8064)\n",
            "EEG Labels Shape: (40, 4)\n",
            "Saved: s29_.npy\n",
            "\n",
            "Processed: s30.dat\n",
            "EEG Data Shape: (40, 40, 8064)\n",
            "EEG Labels Shape: (40, 4)\n",
            "Saved: s30_.npy\n",
            "\n",
            "Processed: s31.dat\n",
            "EEG Data Shape: (40, 40, 8064)\n",
            "EEG Labels Shape: (40, 4)\n",
            "Saved: s31_.npy\n",
            "\n",
            "Processed: s32.dat\n",
            "EEG Data Shape: (40, 40, 8064)\n",
            "EEG Labels Shape: (40, 4)\n",
            "Saved: s32_.npy\n",
            "\n"
          ]
        }
      ]
    },
    {
      "cell_type": "code",
      "source": [
        "from sklearn.utils import shuffle\n",
        "data_training = []\n",
        "label_training = []\n",
        "data_validation = []\n",
        "label_validation = []\n",
        "data_testing = []\n",
        "label_testing = []\n",
        "\n",
        "for subjects in subjectList:\n",
        "  with open('/content/drive/MyDrive/data_preprocessed_python/s' + subjects + '_.npy', 'rb') as file:\n",
        "\n",
        "      sub = np.load(file, allow_pickle=True)\n",
        "      sub = shuffle(sub, random_state=42)\n",
        "      #for i in range (0,sub.shape[0]):\n",
        "      #print(sub.shape[0])\n",
        "        #if i % 8 == 0:\n",
        "          #print(sub[i][0])\n",
        "          #data_testing.append(sub[i][0])\n",
        "          #label_testing.append(sub[i][1])\n",
        "        #else:\n",
        "          #data_training.append(sub[i][0])\n",
        "          #label_training.append(sub[i][1])\n",
        "\n",
        "\n",
        "      num_samples = sub.shape[0]\n",
        "\n",
        "      # Calculate the number of samples for each split\n",
        "      num_train_samples = int(0.8 * num_samples)\n",
        "      num_validation_samples = int(0.1 * num_samples)\n",
        "\n",
        "      for i in range(num_samples):\n",
        "          if i < num_train_samples:\n",
        "              data_training.append(sub[i][0])\n",
        "              label_training.append(sub[i][1])\n",
        "          elif i < num_train_samples + num_validation_samples:\n",
        "              data_validation.append(sub[i][0])\n",
        "              label_validation.append(sub[i][1])\n",
        "          else:\n",
        "              data_testing.append(sub[i][0])\n",
        "              label_testing.append(sub[i][1])\n",
        "\n",
        "np.save('/content/drive/MyDrive/data_training/data_training', np.array(data_training), allow_pickle=True, fix_imports=True)\n",
        "np.save('/content/drive/MyDrive/label_training/label_training', np.array(label_training), allow_pickle=True, fix_imports=True)\n",
        "print(\"training dataset:\", np.array(data_training).shape, np.array(label_training).shape)\n",
        "\n",
        "np.save('/content/drive/MyDrive/data_validation/data_validation', np.array(data_validation), allow_pickle=True, fix_imports=True)\n",
        "np.save('/content/drive/MyDrive/label_validation/label_validation', np.array(label_validation), allow_pickle=True, fix_imports=True)\n",
        "print(\"validation dataset:\", np.array(data_validation).shape, np.array(label_validation).shape)\n",
        "\n",
        "np.save('/content/drive/MyDrive/data_testing/data_testing', np.array(data_testing), allow_pickle=True, fix_imports=True)\n",
        "np.save('/content/drive/MyDrive/label_testing/label_testing', np.array(label_testing), allow_pickle=True, fix_imports=True)\n",
        "print(\"testing dataset:\", np.array(data_testing).shape, np.array(label_testing).shape)"
      ],
      "metadata": {
        "colab": {
          "base_uri": "https://localhost:8080/"
        },
        "id": "zLlSiTOOVD9S",
        "outputId": "24a40a47-f263-43a0-a4f7-70c55c502616"
      },
      "execution_count": 39,
      "outputs": [
        {
          "output_type": "stream",
          "name": "stdout",
          "text": [
            "training dataset: (1024, 8064) (1024, 8064)\n",
            "validation dataset: (128, 8064) (128, 8064)\n",
            "testing dataset: (128, 8064) (128, 8064)\n"
          ]
        }
      ]
    },
    {
      "cell_type": "code",
      "source": [
        "import keras\n",
        "import keras.backend as K\n",
        "from keras.layers.convolutional import Conv1D\n",
        "from keras.models import Sequential\n",
        "from keras.utils import to_categorical\n",
        "from keras.layers import Dense, Dropout, Flatten, MaxPooling2D\n",
        "from keras.models import Model\n",
        "import timeit\n",
        "from keras.layers.convolutional import MaxPooling1D, ZeroPadding1D\n",
        "from keras.optimizers import SGD\n",
        "import matplotlib.pyplot as plt\n",
        "import warnings\n",
        "warnings.filterwarnings('ignore')"
      ],
      "metadata": {
        "id": "t7qr97KLVtY6"
      },
      "execution_count": 13,
      "outputs": []
    },
    {
      "cell_type": "code",
      "source": [
        "with open('/content/drive/MyDrive/data_training/data_training.npy', 'rb') as fileTrain:\n",
        "    X  = np.load(fileTrain)\n",
        "\n",
        "with open('/content/drive/MyDrive/label_training/label_training.npy', 'rb') as fileTrainL:\n",
        "    Y  = np.load(fileTrainL)\n",
        "\n",
        "\n",
        "X = normalize(X)\n",
        "Z = np.ravel(Y[:, [1]])\n",
        "\n",
        "Arousal_Train = np.ravel(Y[:, [0]])\n",
        "Valence_Train = np.ravel(Y[:, [1]])\n",
        "Domain_Train = np.ravel(Y[:, [2]])\n",
        "Like_Train = np.ravel(Y[:, [3]])"
      ],
      "metadata": {
        "id": "Uax2tSlIP_T0"
      },
      "execution_count": 136,
      "outputs": []
    },
    {
      "cell_type": "code",
      "source": [
        "from keras.utils import to_categorical\n",
        "y_train = to_categorical(Z)\n",
        "y_train"
      ],
      "metadata": {
        "colab": {
          "base_uri": "https://localhost:8080/"
        },
        "id": "EHyOYMpbV99d",
        "outputId": "098c416b-0a06-4f06-c567-65eed131183d"
      },
      "execution_count": 137,
      "outputs": [
        {
          "output_type": "execute_result",
          "data": {
            "text/plain": [
              "array([[0., 0., 0., ..., 0., 0., 0.],\n",
              "       [1., 0., 0., ..., 0., 0., 0.],\n",
              "       [0., 0., 0., ..., 0., 1., 0.],\n",
              "       ...,\n",
              "       [0., 0., 0., ..., 0., 0., 0.],\n",
              "       [1., 0., 0., ..., 0., 0., 0.],\n",
              "       [0., 0., 0., ..., 0., 0., 0.]], dtype=float32)"
            ]
          },
          "metadata": {},
          "execution_count": 137
        }
      ]
    },
    {
      "cell_type": "code",
      "source": [
        "x_train = np.array(X[:])"
      ],
      "metadata": {
        "id": "ESDISeYnWB16"
      },
      "execution_count": 138,
      "outputs": []
    },
    {
      "cell_type": "code",
      "source": [
        "#with open('/content/drive/MyDrive/data_validation/data_validation.npy', 'rb') as fileVal:\n",
        "    #J  = np.load(fileVal, allow_pickle=True)\n",
        "\n",
        "#with open('/content/drive/MyDrive/label_validation/label_validation.npy', 'rb') as fileValL:\n",
        "#     K  = np.load(fileValL, allow_pickle=True)\n",
        "\n",
        "\n",
        "# J = normalize(J)\n",
        "# S = np.ravel(K[:, [1]])\n",
        "\n",
        "# Arousal_Test = np.ravel(K[:, [0]])\n",
        "# Valence_Test = np.ravel(K[:, [1]])\n",
        "# Domain_Test = np.ravel(K[:, [2]])\n",
        "# Like_Test = np.ravel(K[:, [3]])"
      ],
      "metadata": {
        "id": "zbSNMjs_Je96"
      },
      "execution_count": 139,
      "outputs": []
    },
    {
      "cell_type": "code",
      "source": [
        "#y_val = to_categorical(S)\n",
        "#y_val"
      ],
      "metadata": {
        "colab": {
          "base_uri": "https://localhost:8080/"
        },
        "id": "X4OMf_aNKlOU",
        "outputId": "97d6f290-89a2-4f41-fefb-f028de19d81f"
      },
      "execution_count": 79,
      "outputs": [
        {
          "output_type": "execute_result",
          "data": {
            "text/plain": [
              "array([[0., 0., 0., ..., 0., 1., 0.],\n",
              "       [0., 0., 0., ..., 0., 0., 1.],\n",
              "       [0., 0., 1., ..., 0., 0., 0.],\n",
              "       ...,\n",
              "       [0., 0., 0., ..., 0., 0., 0.],\n",
              "       [0., 0., 0., ..., 0., 0., 0.],\n",
              "       [0., 0., 0., ..., 1., 0., 0.]], dtype=float32)"
            ]
          },
          "metadata": {},
          "execution_count": 79
        }
      ]
    },
    {
      "cell_type": "code",
      "source": [
        "x_val = np.array(J[:])"
      ],
      "metadata": {
        "id": "7-jfgJn3KxUR"
      },
      "execution_count": 80,
      "outputs": []
    },
    {
      "cell_type": "code",
      "source": [
        "with open('/content/drive/MyDrive/data_testing/data_testing.npy', 'rb') as fileTest:\n",
        "    M  = np.load(fileTest, allow_pickle=True)\n",
        "\n",
        "with open('/content/drive/MyDrive/label_testing/label_testing.npy', 'rb') as fileTestL:\n",
        "    N  = np.load(fileTestL, allow_pickle=True)\n",
        "\n",
        "\n",
        "M = normalize(M)\n",
        "L = np.ravel(N[:, [1]])\n",
        "\n",
        "Arousal_Test = np.ravel(N[:, [0]])\n",
        "Valence_Test = np.ravel(N[:, [1]])\n",
        "Domain_Test = np.ravel(N[:, [2]])\n",
        "Like_Test = np.ravel(N[:, [3]])"
      ],
      "metadata": {
        "id": "fGVVlwnBWEUk"
      },
      "execution_count": 140,
      "outputs": []
    },
    {
      "cell_type": "code",
      "source": [
        "x_test = np.array(M[:])"
      ],
      "metadata": {
        "id": "xEhfXmn7WG7U"
      },
      "execution_count": 141,
      "outputs": []
    },
    {
      "cell_type": "code",
      "source": [
        "print(N.shape)"
      ],
      "metadata": {
        "colab": {
          "base_uri": "https://localhost:8080/"
        },
        "id": "pt9qMwAuYaZV",
        "outputId": "4128cec7-c816-4838-a50d-4324ba05d4ae"
      },
      "execution_count": 142,
      "outputs": [
        {
          "output_type": "stream",
          "name": "stdout",
          "text": [
            "(128, 8064)\n"
          ]
        }
      ]
    },
    {
      "cell_type": "code",
      "source": [
        "print(\"L indices:\", L)"
      ],
      "metadata": {
        "colab": {
          "base_uri": "https://localhost:8080/"
        },
        "id": "ZZTIWXidYfkj",
        "outputId": "3ab6005b-57c3-411a-9dbf-4b1c37fc6b4b"
      },
      "execution_count": 143,
      "outputs": [
        {
          "output_type": "stream",
          "name": "stdout",
          "text": [
            "L indices: [-3.95329127e+00 -7.24817947e+00 -2.61060455e+00  1.60022210e+00\n",
            " -3.47287200e+00 -5.25782883e+01  3.84582238e+01 -3.83820740e+01\n",
            "  9.45556995e+00 -5.03097059e+00 -7.31120664e+00 -5.42835838e+01\n",
            "  3.46487266e+00 -1.31871228e+02  1.88593763e+01  2.92354509e+01\n",
            "  1.31848989e+00  3.75051203e+00 -1.43818369e+01  1.67252357e+01\n",
            "  2.14600223e+01  1.43714364e+01  2.73629835e+00 -2.58708273e+01\n",
            "  8.03422593e+00 -2.78479391e-01 -2.57613498e+01 -2.21130318e+00\n",
            " -2.04556068e+00 -3.80685913e+01 -4.76120090e+00 -5.93985573e+00\n",
            "  1.00847204e+00 -1.04424890e+00 -2.39848148e+01 -5.93131962e+00\n",
            " -3.63987155e+01 -1.27684395e+02 -6.22746671e+01 -3.17629473e+01\n",
            " -3.53548628e+01 -4.52943885e+01  2.62403928e+01 -3.27397185e+00\n",
            "  5.37706133e+00  1.81733888e+01  1.85040330e+00  7.10774339e+00\n",
            " -4.10700570e+00 -1.11167078e+01  3.64442842e+00 -2.21369596e+01\n",
            "  1.11066176e+01 -1.81529828e+01 -4.61631690e+00  5.20605997e+00\n",
            " -4.04849407e+00  1.37407486e+00  4.38866386e+00 -2.48200000e+01\n",
            "  3.58400921e+00 -8.48915665e+00  6.01125218e+00  4.28613977e+00\n",
            "  1.48784524e+00 -1.26361411e+01  7.83809173e-01  2.06604707e+01\n",
            " -1.81005083e+00  2.47488413e+01  2.08510099e+01  1.65326523e+00\n",
            " -1.12756118e+01  3.11993022e+01 -4.86194776e+01  1.65133924e+01\n",
            "  2.40753308e+00  1.38104342e+01  6.74605641e+00 -1.87696708e+01\n",
            "  6.12864144e-01  1.86089660e+00  3.62796446e+00  1.47620663e+01\n",
            " -2.25141036e+00 -3.10834535e+01 -6.28658244e+02  2.74550143e+02\n",
            "  5.59302540e+00  5.11166817e+00  3.83115817e-01  2.14413204e+00\n",
            " -4.15068573e+00  1.05100160e+01  2.13494117e+01 -4.42967665e+00\n",
            " -6.66798074e-01 -2.08746715e+01 -4.52991612e+01  1.90436948e+00\n",
            "  7.82281774e+00  1.49096406e+01  2.72437658e+00 -6.66697666e+01\n",
            " -4.47959418e+00 -2.08496374e+00  3.55848055e+00  2.66993341e+01\n",
            " -5.95449299e+00  2.65947437e+01 -1.84576162e+00 -1.84716097e+00\n",
            " -3.01979316e+01 -3.76957960e+00 -9.98619044e+00 -1.14244484e+01\n",
            " -1.30222904e+00 -6.65952434e+00 -2.48073197e+00 -2.19545980e+01\n",
            "  1.45146299e+01  5.59578782e+00 -5.48321399e-01 -3.21465372e+00\n",
            "  4.15102150e+01  4.03011951e+00 -4.67662186e+00 -1.51137600e+01]\n"
          ]
        }
      ]
    },
    {
      "cell_type": "code",
      "source": [
        "min_label = min(L)\n",
        "L = L - min_label\n",
        "y_test = to_categorical(L)\n",
        "y_test"
      ],
      "metadata": {
        "colab": {
          "base_uri": "https://localhost:8080/"
        },
        "id": "tUamL28ZYsc1",
        "outputId": "f2b8e6e3-1ade-486e-d48e-d16ed268f3b2"
      },
      "execution_count": 144,
      "outputs": [
        {
          "output_type": "execute_result",
          "data": {
            "text/plain": [
              "array([[0., 0., 0., ..., 0., 0., 0.],\n",
              "       [0., 0., 0., ..., 0., 0., 0.],\n",
              "       [0., 0., 0., ..., 0., 0., 0.],\n",
              "       ...,\n",
              "       [0., 0., 0., ..., 0., 0., 0.],\n",
              "       [0., 0., 0., ..., 0., 0., 0.],\n",
              "       [0., 0., 0., ..., 0., 0., 0.]], dtype=float32)"
            ]
          },
          "metadata": {},
          "execution_count": 144
        }
      ]
    },
    {
      "cell_type": "code",
      "source": [
        "from sklearn.preprocessing import StandardScaler\n",
        "scaler = StandardScaler()\n",
        "x_train = scaler.fit_transform(x_train)\n",
        "#x_val = scaler.fit_transform(x_val)\n",
        "x_test = scaler.fit_transform(x_test)"
      ],
      "metadata": {
        "id": "AqmgfPFPY7I7"
      },
      "execution_count": 145,
      "outputs": []
    },
    {
      "cell_type": "code",
      "source": [
        "x_train = x_train.reshape(x_train.shape[0],x_train.shape[1], 1)\n",
        "#x_val = x_val.reshape(x_val.shape[0],x_val.shape[1], 1)\n",
        "x_test = x_test.reshape(x_test.shape[0],x_test.shape[1], 1)\n",
        "x_train\n",
        "x_test\n",
        "#x_val"
      ],
      "metadata": {
        "colab": {
          "base_uri": "https://localhost:8080/"
        },
        "id": "3X_Xdk3EY9wm",
        "outputId": "9d66e4da-729f-4c78-da95-9a40528d423f"
      },
      "execution_count": 146,
      "outputs": [
        {
          "output_type": "execute_result",
          "data": {
            "text/plain": [
              "array([[[-0.24877435],\n",
              "        [-0.40236522],\n",
              "        [-0.40704387],\n",
              "        ...,\n",
              "        [ 0.61146223],\n",
              "        [ 0.5371304 ],\n",
              "        [-0.05913337]],\n",
              "\n",
              "       [[-1.1227429 ],\n",
              "        [-1.32209873],\n",
              "        [-1.18200127],\n",
              "        ...,\n",
              "        [-0.04425296],\n",
              "        [-0.19860356],\n",
              "        [ 0.09828795]],\n",
              "\n",
              "       [[ 0.16028773],\n",
              "        [-0.23320328],\n",
              "        [-0.5450207 ],\n",
              "        ...,\n",
              "        [ 0.71604771],\n",
              "        [ 1.05900008],\n",
              "        [ 0.15254314]],\n",
              "\n",
              "       ...,\n",
              "\n",
              "       [[-0.89853295],\n",
              "        [-0.18567895],\n",
              "        [ 0.73752748],\n",
              "        ...,\n",
              "        [ 1.00415962],\n",
              "        [ 0.19991496],\n",
              "        [-0.73563459]],\n",
              "\n",
              "       [[ 0.70347161],\n",
              "        [-0.06587796],\n",
              "        [-0.65262451],\n",
              "        ...,\n",
              "        [-0.44022603],\n",
              "        [ 0.33131731],\n",
              "        [ 0.49946153]],\n",
              "\n",
              "       [[-0.61898522],\n",
              "        [-0.30679977],\n",
              "        [-0.53775944],\n",
              "        ...,\n",
              "        [-0.43166952],\n",
              "        [ 1.03500092],\n",
              "        [ 0.56360783]]])"
            ]
          },
          "metadata": {},
          "execution_count": 146
        }
      ]
    },
    {
      "cell_type": "code",
      "source": [
        "batch_size = 256\n",
        "num_classes = 10\n",
        "epochs = 50\n",
        "input_shape=(x_train.shape[1], 1)"
      ],
      "metadata": {
        "id": "6c4JoKVoZJhj"
      },
      "execution_count": 147,
      "outputs": []
    },
    {
      "cell_type": "code",
      "source": [
        "print(input_shape)"
      ],
      "metadata": {
        "colab": {
          "base_uri": "https://localhost:8080/"
        },
        "id": "K9V-a4VlZLrY",
        "outputId": "47493ead-481a-4c55-ff30-76a9fc891c6d"
      },
      "execution_count": 148,
      "outputs": [
        {
          "output_type": "stream",
          "name": "stdout",
          "text": [
            "(8064, 1)\n"
          ]
        }
      ]
    },
    {
      "cell_type": "code",
      "source": [
        "num_classes = y_train.shape[1]\n",
        "print(\"Number of classes:\", num_classes)"
      ],
      "metadata": {
        "colab": {
          "base_uri": "https://localhost:8080/"
        },
        "id": "hIHV5t6VdoRY",
        "outputId": "add034da-3c84-4858-8b14-5e2d38071169"
      },
      "execution_count": 149,
      "outputs": [
        {
          "output_type": "stream",
          "name": "stdout",
          "text": [
            "Number of classes: 616\n"
          ]
        }
      ]
    },
    {
      "cell_type": "code",
      "source": [
        "from keras.layers import Convolution1D, ZeroPadding1D, MaxPooling1D, BatchNormalization, Activation, Dropout, Flatten, Dense,  Bidirectional, LSTM\n",
        "from keras.regularizers import l2"
      ],
      "metadata": {
        "id": "Rs23wnEiZO23"
      },
      "execution_count": 155,
      "outputs": []
    },
    {
      "cell_type": "code",
      "source": [
        "#from keras.callbacks import EarlyStopping"
      ],
      "metadata": {
        "id": "ezw_wYAvM-uv"
      },
      "execution_count": 151,
      "outputs": []
    },
    {
      "cell_type": "code",
      "source": [
        "model = Sequential()\n",
        "intput_shape=(x_train.shape[1], 1)\n",
        "model.add(Conv1D(128, kernel_size=3,padding = 'same',activation='relu', input_shape=input_shape))\n",
        "model.add(BatchNormalization())\n",
        "model.add(MaxPooling1D(pool_size=(2)))\n",
        "#model.add(Conv1D(128,kernel_size=3,padding = 'same', activation='relu'))\n",
        "#model.add(BatchNormalization())\n",
        "#model.add(MaxPooling1D(pool_size=(2)))\n",
        "model.add(Bidirectional(LSTM(64, return_sequences=True)))\n",
        "model.add(Bidirectional(LSTM(32, return_sequences=True)))\n",
        "model.add(Flatten())\n",
        "model.add(Dense(32, activation='relu'))\n",
        "model.add(Dropout(0.2))\n",
        "model.add(Dense(num_classes, activation='softmax'))\n",
        "model.summary()"
      ],
      "metadata": {
        "colab": {
          "base_uri": "https://localhost:8080/"
        },
        "id": "gLKg5KDRaKl-",
        "outputId": "4b71b983-2b25-4b72-8cd0-88c8eb0edcc4"
      },
      "execution_count": 156,
      "outputs": [
        {
          "output_type": "stream",
          "name": "stdout",
          "text": [
            "Model: \"sequential_7\"\n",
            "_________________________________________________________________\n",
            " Layer (type)                Output Shape              Param #   \n",
            "=================================================================\n",
            " conv1d_7 (Conv1D)           (None, 8064, 128)         512       \n",
            "                                                                 \n",
            " batch_normalization_7 (Batc  (None, 8064, 128)        512       \n",
            " hNormalization)                                                 \n",
            "                                                                 \n",
            " max_pooling1d_7 (MaxPooling  (None, 4032, 128)        0         \n",
            " 1D)                                                             \n",
            "                                                                 \n",
            " bidirectional_14 (Bidirecti  (None, 4032, 128)        98816     \n",
            " onal)                                                           \n",
            "                                                                 \n",
            " bidirectional_15 (Bidirecti  (None, 4032, 64)         41216     \n",
            " onal)                                                           \n",
            "                                                                 \n",
            " flatten_7 (Flatten)         (None, 258048)            0         \n",
            "                                                                 \n",
            " dense_14 (Dense)            (None, 32)                8257568   \n",
            "                                                                 \n",
            " dropout_7 (Dropout)         (None, 32)                0         \n",
            "                                                                 \n",
            " dense_15 (Dense)            (None, 616)               20328     \n",
            "                                                                 \n",
            "=================================================================\n",
            "Total params: 8,418,952\n",
            "Trainable params: 8,418,696\n",
            "Non-trainable params: 256\n",
            "_________________________________________________________________\n"
          ]
        }
      ]
    },
    {
      "cell_type": "code",
      "source": [
        "model.compile(loss=keras.losses.categorical_crossentropy,\n",
        "              optimizer='adam',\n",
        "              metrics=['accuracy'])"
      ],
      "metadata": {
        "id": "oUt6E5StafBv"
      },
      "execution_count": 157,
      "outputs": []
    },
    {
      "cell_type": "code",
      "source": [
        "#early_stopping = EarlyStopping(monitor='val_loss', patience=5, restore_best_weights=True)"
      ],
      "metadata": {
        "id": "tgSR4bXQOCW-"
      },
      "execution_count": 129,
      "outputs": []
    },
    {
      "cell_type": "code",
      "source": [
        "history = model.fit(x_train, y_train,\n",
        "          batch_size=batch_size,\n",
        "          epochs=epochs,\n",
        "          verbose=1)\n",
        "          #validation_data=(x_val, y_val),\n",
        "          #callbacks=[early_stopping])"
      ],
      "metadata": {
        "colab": {
          "base_uri": "https://localhost:8080/"
        },
        "id": "kEUWjXDjahdn",
        "outputId": "6dff0fc2-727b-4beb-8fcb-e11470de2314"
      },
      "execution_count": 158,
      "outputs": [
        {
          "output_type": "stream",
          "name": "stdout",
          "text": [
            "Epoch 1/50\n",
            "4/4 [==============================] - 66s 1s/step - loss: 7.5097 - accuracy: 0.0039\n",
            "Epoch 2/50\n",
            "4/4 [==============================] - 4s 1s/step - loss: 6.3398 - accuracy: 0.0186\n",
            "Epoch 3/50\n",
            "4/4 [==============================] - 4s 1s/step - loss: 5.9937 - accuracy: 0.0322\n",
            "Epoch 4/50\n",
            "4/4 [==============================] - 4s 1s/step - loss: 5.9001 - accuracy: 0.0381\n",
            "Epoch 5/50\n",
            "4/4 [==============================] - 4s 1s/step - loss: 5.4813 - accuracy: 0.0674\n",
            "Epoch 6/50\n",
            "4/4 [==============================] - 4s 1s/step - loss: 4.9432 - accuracy: 0.0947\n",
            "Epoch 7/50\n",
            "4/4 [==============================] - 4s 1s/step - loss: 4.3609 - accuracy: 0.1611\n",
            "Epoch 8/50\n",
            "4/4 [==============================] - 4s 1s/step - loss: 3.7556 - accuracy: 0.2080\n",
            "Epoch 9/50\n",
            "4/4 [==============================] - 4s 1s/step - loss: 3.0531 - accuracy: 0.3105\n",
            "Epoch 10/50\n",
            "4/4 [==============================] - 4s 1s/step - loss: 2.4673 - accuracy: 0.4092\n",
            "Epoch 11/50\n",
            "4/4 [==============================] - 4s 1s/step - loss: 2.0476 - accuracy: 0.5127\n",
            "Epoch 12/50\n",
            "4/4 [==============================] - 4s 1s/step - loss: 1.7045 - accuracy: 0.5596\n",
            "Epoch 13/50\n",
            "4/4 [==============================] - 4s 1s/step - loss: 1.3895 - accuracy: 0.6543\n",
            "Epoch 14/50\n",
            "4/4 [==============================] - 4s 1s/step - loss: 1.1124 - accuracy: 0.7061\n",
            "Epoch 15/50\n",
            "4/4 [==============================] - 4s 1s/step - loss: 0.8267 - accuracy: 0.7861\n",
            "Epoch 16/50\n",
            "4/4 [==============================] - 4s 1s/step - loss: 0.7151 - accuracy: 0.8135\n",
            "Epoch 17/50\n",
            "4/4 [==============================] - 4s 1s/step - loss: 0.5437 - accuracy: 0.8623\n",
            "Epoch 18/50\n",
            "4/4 [==============================] - 4s 1s/step - loss: 0.4958 - accuracy: 0.8711\n",
            "Epoch 19/50\n",
            "4/4 [==============================] - 4s 1s/step - loss: 0.4178 - accuracy: 0.8955\n",
            "Epoch 20/50\n",
            "4/4 [==============================] - 4s 1s/step - loss: 0.3408 - accuracy: 0.9043\n",
            "Epoch 21/50\n",
            "4/4 [==============================] - 4s 1s/step - loss: 0.3542 - accuracy: 0.8994\n",
            "Epoch 22/50\n",
            "4/4 [==============================] - 4s 1s/step - loss: 0.2477 - accuracy: 0.9424\n",
            "Epoch 23/50\n",
            "4/4 [==============================] - 4s 1s/step - loss: 0.2155 - accuracy: 0.9502\n",
            "Epoch 24/50\n",
            "4/4 [==============================] - 4s 1s/step - loss: 0.1988 - accuracy: 0.9492\n",
            "Epoch 25/50\n",
            "4/4 [==============================] - 4s 1s/step - loss: 0.1971 - accuracy: 0.9541\n",
            "Epoch 26/50\n",
            "4/4 [==============================] - 4s 1s/step - loss: 0.2254 - accuracy: 0.9326\n",
            "Epoch 27/50\n",
            "4/4 [==============================] - 4s 1s/step - loss: 0.1560 - accuracy: 0.9600\n",
            "Epoch 28/50\n",
            "4/4 [==============================] - 4s 1s/step - loss: 0.1460 - accuracy: 0.9580\n",
            "Epoch 29/50\n",
            "4/4 [==============================] - 4s 1s/step - loss: 0.1628 - accuracy: 0.9512\n",
            "Epoch 30/50\n",
            "4/4 [==============================] - 4s 1s/step - loss: 0.1438 - accuracy: 0.9629\n",
            "Epoch 31/50\n",
            "4/4 [==============================] - 4s 1s/step - loss: 0.1471 - accuracy: 0.9561\n",
            "Epoch 32/50\n",
            "4/4 [==============================] - 4s 1s/step - loss: 0.1307 - accuracy: 0.9648\n",
            "Epoch 33/50\n",
            "4/4 [==============================] - 4s 1s/step - loss: 0.1081 - accuracy: 0.9707\n",
            "Epoch 34/50\n",
            "4/4 [==============================] - 4s 1s/step - loss: 0.0948 - accuracy: 0.9736\n",
            "Epoch 35/50\n",
            "4/4 [==============================] - 4s 1s/step - loss: 0.1410 - accuracy: 0.9590\n",
            "Epoch 36/50\n",
            "4/4 [==============================] - 4s 1s/step - loss: 0.1343 - accuracy: 0.9639\n",
            "Epoch 37/50\n",
            "4/4 [==============================] - 4s 1s/step - loss: 0.0839 - accuracy: 0.9766\n",
            "Epoch 38/50\n",
            "4/4 [==============================] - 4s 1s/step - loss: 0.1192 - accuracy: 0.9619\n",
            "Epoch 39/50\n",
            "4/4 [==============================] - 4s 1s/step - loss: 0.0993 - accuracy: 0.9727\n",
            "Epoch 40/50\n",
            "4/4 [==============================] - 4s 1s/step - loss: 0.1003 - accuracy: 0.9756\n",
            "Epoch 41/50\n",
            "4/4 [==============================] - 4s 1s/step - loss: 0.0957 - accuracy: 0.9688\n",
            "Epoch 42/50\n",
            "4/4 [==============================] - 4s 1s/step - loss: 0.1009 - accuracy: 0.9746\n",
            "Epoch 43/50\n",
            "4/4 [==============================] - 4s 1s/step - loss: 0.0921 - accuracy: 0.9766\n",
            "Epoch 44/50\n",
            "4/4 [==============================] - 4s 1s/step - loss: 0.1036 - accuracy: 0.9727\n",
            "Epoch 45/50\n",
            "4/4 [==============================] - 4s 1s/step - loss: 0.0822 - accuracy: 0.9775\n",
            "Epoch 46/50\n",
            "4/4 [==============================] - 4s 1s/step - loss: 0.0773 - accuracy: 0.9814\n",
            "Epoch 47/50\n",
            "4/4 [==============================] - 4s 1s/step - loss: 0.0894 - accuracy: 0.9697\n",
            "Epoch 48/50\n",
            "4/4 [==============================] - 4s 1s/step - loss: 0.0809 - accuracy: 0.9766\n",
            "Epoch 49/50\n",
            "4/4 [==============================] - 4s 1s/step - loss: 0.0778 - accuracy: 0.9756\n",
            "Epoch 50/50\n",
            "4/4 [==============================] - 4s 1s/step - loss: 0.0710 - accuracy: 0.9785\n"
          ]
        }
      ]
    }
  ]
}