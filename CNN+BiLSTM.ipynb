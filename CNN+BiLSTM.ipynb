{
  "nbformat": 4,
  "nbformat_minor": 0,
  "metadata": {
    "colab": {
      "provenance": [],
      "gpuType": "T4",
      "authorship_tag": "ABX9TyMNK8NJzVsxxZmr9x5Fz/CE",
      "include_colab_link": true
    },
    "kernelspec": {
      "name": "python3",
      "display_name": "Python 3"
    },
    "language_info": {
      "name": "python"
    },
    "accelerator": "GPU"
  },
  "cells": [
    {
      "cell_type": "markdown",
      "metadata": {
        "id": "view-in-github",
        "colab_type": "text"
      },
      "source": [
        "<a href=\"https://colab.research.google.com/github/FariaParvinMegha/thesis/blob/main/CNN%2BBiLSTM.ipynb\" target=\"_parent\"><img src=\"https://colab.research.google.com/assets/colab-badge.svg\" alt=\"Open In Colab\"/></a>"
      ]
    },
    {
      "cell_type": "code",
      "source": [
        "from google.colab import drive\n",
        "drive.mount('/content/drive')"
      ],
      "metadata": {
        "colab": {
          "base_uri": "https://localhost:8080/"
        },
        "id": "jVO74sRktnld",
        "outputId": "34468386-543a-45c8-b431-5e980fef2835"
      },
      "execution_count": 2,
      "outputs": [
        {
          "output_type": "stream",
          "name": "stdout",
          "text": [
            "Mounted at /content/drive\n"
          ]
        }
      ]
    },
    {
      "cell_type": "code",
      "source": [
        "pip install git+https://github.com/forrestbao/pyeeg.git\n"
      ],
      "metadata": {
        "colab": {
          "base_uri": "https://localhost:8080/"
        },
        "id": "mG56eqwyvGBK",
        "outputId": "e9329b72-adb7-47b4-b91a-e167c17f3fa1"
      },
      "execution_count": 5,
      "outputs": [
        {
          "output_type": "stream",
          "name": "stdout",
          "text": [
            "Collecting git+https://github.com/forrestbao/pyeeg.git\n",
            "  Cloning https://github.com/forrestbao/pyeeg.git to /tmp/pip-req-build-ac56nkii\n",
            "  Running command git clone --filter=blob:none --quiet https://github.com/forrestbao/pyeeg.git /tmp/pip-req-build-ac56nkii\n",
            "  Resolved https://github.com/forrestbao/pyeeg.git to commit a6c18bb093e4748f9d9c208535a6ae024a0802b8\n",
            "  Preparing metadata (setup.py) ... \u001b[?25l\u001b[?25hdone\n",
            "Requirement already satisfied: numpy>=1.9.2 in /usr/local/lib/python3.10/dist-packages (from pyeeg==0.4.4) (1.23.5)\n",
            "Building wheels for collected packages: pyeeg\n",
            "  Building wheel for pyeeg (setup.py) ... \u001b[?25l\u001b[?25hdone\n",
            "  Created wheel for pyeeg: filename=pyeeg-0.4.4-py2.py3-none-any.whl size=28111 sha256=d422f73ea048ae8ff1552f22523061dd79f578e838640360f6634a57511a153c\n",
            "  Stored in directory: /tmp/pip-ephem-wheel-cache-6hbncn8s/wheels/a8/c4/1a/cee09dcc12a11620066d35ace42e3c1e3bfbcc1db3a0ce7788\n",
            "Successfully built pyeeg\n",
            "Installing collected packages: pyeeg\n",
            "Successfully installed pyeeg-0.4.4\n"
          ]
        }
      ]
    },
    {
      "cell_type": "code",
      "source": [
        "import numpy as np\n",
        "import pyeeg as pe\n",
        "import pickle as pickle\n",
        "import pandas as pd\n",
        "import math\n",
        "from sklearn.preprocessing import normalize\n",
        "\n",
        "import os\n",
        "import time"
      ],
      "metadata": {
        "id": "t_2nD0BTvUXp"
      },
      "execution_count": 7,
      "outputs": []
    },
    {
      "cell_type": "code",
      "source": [
        "channel = [1,2,4,5,8,10,15,21,22,25,26,27,28,31,32]\n",
        "band = [4,8,13,22,30,45] #5 bands\n",
        "window_size = 256 #Averaging band power of 2 sec\n",
        "step_size = 16 #Each 0.125 sec update once\n",
        "sample_rate = 128 #Sampling rate of 128 Hz\n",
        "subjectList = ['01','02','03','04','05','06','07','08','09','10','11','12','13','14','15','16','17','18','19','20','21','22','23','24','25','26','27','28','29','30','31','32']\n"
      ],
      "metadata": {
        "id": "JAZssG5axCiQ"
      },
      "execution_count": 8,
      "outputs": []
    },
    {
      "cell_type": "code",
      "source": [
        "\n",
        "# Directory containing your data files\n",
        "data_dir = '/content/drive/MyDrive/data_preprocessed_python'\n",
        "\n",
        "# List of file names (assuming your files are named s01.dat, s02.dat, ..., s32.dat)\n",
        "file_names = ['s{:02d}.dat'.format(i) for i in range(1, 33)]\n",
        "\n",
        "for file_name in file_names:\n",
        "    file_path = os.path.join(data_dir, file_name)\n",
        "\n",
        "    with open(file_path, 'rb') as file:\n",
        "        subject = pickle.load(file, encoding='latin1')\n",
        "\n",
        "        eeg_data = []\n",
        "        eeg_labels = []\n",
        "\n",
        "        for i in range(0, 40):\n",
        "            eeg_data.append(subject[\"data\"][i])\n",
        "            eeg_labels.append(subject[\"labels\"][i])\n",
        "\n",
        "        print(\"Processed:\", file_name)\n",
        "        print(\"EEG Data Shape:\", np.array(eeg_data).shape)\n",
        "        print(\"EEG Labels Shape:\", np.array(eeg_labels).shape)\n",
        "\n",
        "        # Modify the file name for saving\n",
        "        save_name = file_name.replace('.dat', '_.npy')\n",
        "        save_path = os.path.join(data_dir, save_name)\n",
        "\n",
        "        np.save(save_path, eeg_data, allow_pickle=True, fix_imports=True)\n",
        "\n",
        "        print(\"Saved:\", save_name)\n",
        "        print()\n",
        "\n"
      ],
      "metadata": {
        "colab": {
          "base_uri": "https://localhost:8080/"
        },
        "id": "ehLCt31eP_Nb",
        "outputId": "314abc35-e199-4a90-fb10-3d5fed28c382"
      },
      "execution_count": 9,
      "outputs": [
        {
          "output_type": "stream",
          "name": "stdout",
          "text": [
            "Processed: s01.dat\n",
            "EEG Data Shape: (40, 40, 8064)\n",
            "EEG Labels Shape: (40, 4)\n",
            "Saved: s01_.npy\n",
            "\n",
            "Processed: s02.dat\n",
            "EEG Data Shape: (40, 40, 8064)\n",
            "EEG Labels Shape: (40, 4)\n",
            "Saved: s02_.npy\n",
            "\n",
            "Processed: s03.dat\n",
            "EEG Data Shape: (40, 40, 8064)\n",
            "EEG Labels Shape: (40, 4)\n",
            "Saved: s03_.npy\n",
            "\n",
            "Processed: s04.dat\n",
            "EEG Data Shape: (40, 40, 8064)\n",
            "EEG Labels Shape: (40, 4)\n",
            "Saved: s04_.npy\n",
            "\n",
            "Processed: s05.dat\n",
            "EEG Data Shape: (40, 40, 8064)\n",
            "EEG Labels Shape: (40, 4)\n",
            "Saved: s05_.npy\n",
            "\n",
            "Processed: s06.dat\n",
            "EEG Data Shape: (40, 40, 8064)\n",
            "EEG Labels Shape: (40, 4)\n",
            "Saved: s06_.npy\n",
            "\n",
            "Processed: s07.dat\n",
            "EEG Data Shape: (40, 40, 8064)\n",
            "EEG Labels Shape: (40, 4)\n",
            "Saved: s07_.npy\n",
            "\n",
            "Processed: s08.dat\n",
            "EEG Data Shape: (40, 40, 8064)\n",
            "EEG Labels Shape: (40, 4)\n",
            "Saved: s08_.npy\n",
            "\n",
            "Processed: s09.dat\n",
            "EEG Data Shape: (40, 40, 8064)\n",
            "EEG Labels Shape: (40, 4)\n",
            "Saved: s09_.npy\n",
            "\n",
            "Processed: s10.dat\n",
            "EEG Data Shape: (40, 40, 8064)\n",
            "EEG Labels Shape: (40, 4)\n",
            "Saved: s10_.npy\n",
            "\n",
            "Processed: s11.dat\n",
            "EEG Data Shape: (40, 40, 8064)\n",
            "EEG Labels Shape: (40, 4)\n",
            "Saved: s11_.npy\n",
            "\n",
            "Processed: s12.dat\n",
            "EEG Data Shape: (40, 40, 8064)\n",
            "EEG Labels Shape: (40, 4)\n",
            "Saved: s12_.npy\n",
            "\n",
            "Processed: s13.dat\n",
            "EEG Data Shape: (40, 40, 8064)\n",
            "EEG Labels Shape: (40, 4)\n",
            "Saved: s13_.npy\n",
            "\n",
            "Processed: s14.dat\n",
            "EEG Data Shape: (40, 40, 8064)\n",
            "EEG Labels Shape: (40, 4)\n",
            "Saved: s14_.npy\n",
            "\n",
            "Processed: s15.dat\n",
            "EEG Data Shape: (40, 40, 8064)\n",
            "EEG Labels Shape: (40, 4)\n",
            "Saved: s15_.npy\n",
            "\n",
            "Processed: s16.dat\n",
            "EEG Data Shape: (40, 40, 8064)\n",
            "EEG Labels Shape: (40, 4)\n",
            "Saved: s16_.npy\n",
            "\n",
            "Processed: s17.dat\n",
            "EEG Data Shape: (40, 40, 8064)\n",
            "EEG Labels Shape: (40, 4)\n",
            "Saved: s17_.npy\n",
            "\n",
            "Processed: s18.dat\n",
            "EEG Data Shape: (40, 40, 8064)\n",
            "EEG Labels Shape: (40, 4)\n",
            "Saved: s18_.npy\n",
            "\n",
            "Processed: s19.dat\n",
            "EEG Data Shape: (40, 40, 8064)\n",
            "EEG Labels Shape: (40, 4)\n",
            "Saved: s19_.npy\n",
            "\n",
            "Processed: s20.dat\n",
            "EEG Data Shape: (40, 40, 8064)\n",
            "EEG Labels Shape: (40, 4)\n",
            "Saved: s20_.npy\n",
            "\n",
            "Processed: s21.dat\n",
            "EEG Data Shape: (40, 40, 8064)\n",
            "EEG Labels Shape: (40, 4)\n",
            "Saved: s21_.npy\n",
            "\n",
            "Processed: s22.dat\n",
            "EEG Data Shape: (40, 40, 8064)\n",
            "EEG Labels Shape: (40, 4)\n",
            "Saved: s22_.npy\n",
            "\n",
            "Processed: s23.dat\n",
            "EEG Data Shape: (40, 40, 8064)\n",
            "EEG Labels Shape: (40, 4)\n",
            "Saved: s23_.npy\n",
            "\n",
            "Processed: s24.dat\n",
            "EEG Data Shape: (40, 40, 8064)\n",
            "EEG Labels Shape: (40, 4)\n",
            "Saved: s24_.npy\n",
            "\n",
            "Processed: s25.dat\n",
            "EEG Data Shape: (40, 40, 8064)\n",
            "EEG Labels Shape: (40, 4)\n",
            "Saved: s25_.npy\n",
            "\n",
            "Processed: s26.dat\n",
            "EEG Data Shape: (40, 40, 8064)\n",
            "EEG Labels Shape: (40, 4)\n",
            "Saved: s26_.npy\n",
            "\n",
            "Processed: s27.dat\n",
            "EEG Data Shape: (40, 40, 8064)\n",
            "EEG Labels Shape: (40, 4)\n",
            "Saved: s27_.npy\n",
            "\n",
            "Processed: s28.dat\n",
            "EEG Data Shape: (40, 40, 8064)\n",
            "EEG Labels Shape: (40, 4)\n",
            "Saved: s28_.npy\n",
            "\n",
            "Processed: s29.dat\n",
            "EEG Data Shape: (40, 40, 8064)\n",
            "EEG Labels Shape: (40, 4)\n",
            "Saved: s29_.npy\n",
            "\n",
            "Processed: s30.dat\n",
            "EEG Data Shape: (40, 40, 8064)\n",
            "EEG Labels Shape: (40, 4)\n",
            "Saved: s30_.npy\n",
            "\n",
            "Processed: s31.dat\n",
            "EEG Data Shape: (40, 40, 8064)\n",
            "EEG Labels Shape: (40, 4)\n",
            "Saved: s31_.npy\n",
            "\n",
            "Processed: s32.dat\n",
            "EEG Data Shape: (40, 40, 8064)\n",
            "EEG Labels Shape: (40, 4)\n",
            "Saved: s32_.npy\n",
            "\n"
          ]
        }
      ]
    },
    {
      "cell_type": "code",
      "source": [
        "from sklearn.utils import shuffle\n",
        "data_training = []\n",
        "label_training = []\n",
        "data_validation = []\n",
        "label_validation = []\n",
        "data_testing = []\n",
        "label_testing = []\n",
        "\n",
        "for subjects in subjectList:\n",
        "  with open('/content/drive/MyDrive/data_preprocessed_python/s' + subjects + '_.npy', 'rb') as file:\n",
        "\n",
        "      sub = np.load(file, allow_pickle=True)\n",
        "      sub = shuffle(sub, random_state=42)\n",
        "      #for i in range (0,sub.shape[0]):\n",
        "      #print(sub.shape[0])\n",
        "        #if i % 8 == 0:\n",
        "          #print(sub[i][0])\n",
        "          #data_testing.append(sub[i][0])\n",
        "          #label_testing.append(sub[i][1])\n",
        "        #else:\n",
        "          #data_training.append(sub[i][0])\n",
        "          #label_training.append(sub[i][1])\n",
        "\n",
        "\n",
        "      num_samples = sub.shape[0]\n",
        "\n",
        "      # Calculate the number of samples for each split\n",
        "      num_train_samples = int(0.8 * num_samples)\n",
        "      num_validation_samples = int(0.1 * num_samples)\n",
        "\n",
        "      for i in range(num_samples):\n",
        "          if i < num_train_samples:\n",
        "              data_training.append(sub[i][0])\n",
        "              label_training.append(sub[i][1])\n",
        "          elif i < num_train_samples + num_validation_samples:\n",
        "              data_validation.append(sub[i][0])\n",
        "              label_validation.append(sub[i][1])\n",
        "          else:\n",
        "              data_testing.append(sub[i][0])\n",
        "              label_testing.append(sub[i][1])\n",
        "\n",
        "np.save('/content/drive/MyDrive/data_training/data_training', np.array(data_training), allow_pickle=True, fix_imports=True)\n",
        "np.save('/content/drive/MyDrive/label_training/label_training', np.array(label_training), allow_pickle=True, fix_imports=True)\n",
        "print(\"training dataset:\", np.array(data_training).shape, np.array(label_training).shape)\n",
        "\n",
        "np.save('/content/drive/MyDrive/data_validation/data_validation', np.array(data_validation), allow_pickle=True, fix_imports=True)\n",
        "np.save('/content/drive/MyDrive/label_validation/label_validation', np.array(label_validation), allow_pickle=True, fix_imports=True)\n",
        "print(\"validation dataset:\", np.array(data_validation).shape, np.array(label_validation).shape)\n",
        "\n",
        "np.save('/content/drive/MyDrive/data_testing/data_testing', np.array(data_testing), allow_pickle=True, fix_imports=True)\n",
        "np.save('/content/drive/MyDrive/label_testing/label_testing', np.array(label_testing), allow_pickle=True, fix_imports=True)\n",
        "print(\"testing dataset:\", np.array(data_testing).shape, np.array(label_testing).shape)"
      ],
      "metadata": {
        "colab": {
          "base_uri": "https://localhost:8080/"
        },
        "id": "zLlSiTOOVD9S",
        "outputId": "24a40a47-f263-43a0-a4f7-70c55c502616"
      },
      "execution_count": 39,
      "outputs": [
        {
          "output_type": "stream",
          "name": "stdout",
          "text": [
            "training dataset: (1024, 8064) (1024, 8064)\n",
            "validation dataset: (128, 8064) (128, 8064)\n",
            "testing dataset: (128, 8064) (128, 8064)\n"
          ]
        }
      ]
    },
    {
      "cell_type": "code",
      "source": [
        "import keras\n",
        "import keras.backend as K\n",
        "from keras.layers.convolutional import Conv1D\n",
        "from keras.models import Sequential\n",
        "from keras.utils import to_categorical\n",
        "from keras.layers import Dense, Dropout, Flatten, MaxPooling2D\n",
        "from keras.models import Model\n",
        "import timeit\n",
        "from keras.layers.convolutional import MaxPooling1D, ZeroPadding1D\n",
        "from keras.optimizers import SGD\n",
        "import matplotlib.pyplot as plt\n",
        "import warnings\n",
        "warnings.filterwarnings('ignore')"
      ],
      "metadata": {
        "id": "t7qr97KLVtY6"
      },
      "execution_count": 13,
      "outputs": []
    },
    {
      "cell_type": "code",
      "source": [
        "with open('/content/drive/MyDrive/data_training/data_training.npy', 'rb') as fileTrain:\n",
        "    X  = np.load(fileTrain)\n",
        "\n",
        "with open('/content/drive/MyDrive/label_training/label_training.npy', 'rb') as fileTrainL:\n",
        "    Y  = np.load(fileTrainL)\n",
        "\n",
        "\n",
        "X = normalize(X)\n",
        "Z = np.ravel(Y[:, [1]])\n",
        "\n",
        "Arousal_Train = np.ravel(Y[:, [0]])\n",
        "Valence_Train = np.ravel(Y[:, [1]])\n",
        "Domain_Train = np.ravel(Y[:, [2]])\n",
        "Like_Train = np.ravel(Y[:, [3]])"
      ],
      "metadata": {
        "id": "Uax2tSlIP_T0"
      },
      "execution_count": 87,
      "outputs": []
    },
    {
      "cell_type": "code",
      "source": [
        "from keras.utils import to_categorical\n",
        "y_train = to_categorical(Z)\n",
        "y_train"
      ],
      "metadata": {
        "colab": {
          "base_uri": "https://localhost:8080/"
        },
        "id": "EHyOYMpbV99d",
        "outputId": "76341c17-b526-48c5-c694-7df515a0a25d"
      },
      "execution_count": 88,
      "outputs": [
        {
          "output_type": "execute_result",
          "data": {
            "text/plain": [
              "array([[0., 0., 0., ..., 0., 0., 0.],\n",
              "       [1., 0., 0., ..., 0., 0., 0.],\n",
              "       [0., 0., 0., ..., 0., 1., 0.],\n",
              "       ...,\n",
              "       [0., 0., 0., ..., 0., 0., 0.],\n",
              "       [1., 0., 0., ..., 0., 0., 0.],\n",
              "       [0., 0., 0., ..., 0., 0., 0.]], dtype=float32)"
            ]
          },
          "metadata": {},
          "execution_count": 88
        }
      ]
    },
    {
      "cell_type": "code",
      "source": [
        "x_train = np.array(X[:])"
      ],
      "metadata": {
        "id": "ESDISeYnWB16"
      },
      "execution_count": 89,
      "outputs": []
    },
    {
      "cell_type": "code",
      "source": [
        "with open('/content/drive/MyDrive/data_validation/data_validation.npy', 'rb') as fileVal:\n",
        "    J  = np.load(fileVal, allow_pickle=True)\n",
        "\n",
        "with open('/content/drive/MyDrive/label_validation/label_validation.npy', 'rb') as fileValL:\n",
        "    K  = np.load(fileValL, allow_pickle=True)\n",
        "\n",
        "\n",
        "J = normalize(J)\n",
        "S = np.ravel(K[:, [1]])\n",
        "\n",
        "Arousal_Test = np.ravel(K[:, [0]])\n",
        "Valence_Test = np.ravel(K[:, [1]])\n",
        "Domain_Test = np.ravel(K[:, [2]])\n",
        "Like_Test = np.ravel(K[:, [3]])"
      ],
      "metadata": {
        "id": "zbSNMjs_Je96"
      },
      "execution_count": 78,
      "outputs": []
    },
    {
      "cell_type": "code",
      "source": [
        "y_val = to_categorical(S)\n",
        "y_val"
      ],
      "metadata": {
        "colab": {
          "base_uri": "https://localhost:8080/"
        },
        "id": "X4OMf_aNKlOU",
        "outputId": "97d6f290-89a2-4f41-fefb-f028de19d81f"
      },
      "execution_count": 79,
      "outputs": [
        {
          "output_type": "execute_result",
          "data": {
            "text/plain": [
              "array([[0., 0., 0., ..., 0., 1., 0.],\n",
              "       [0., 0., 0., ..., 0., 0., 1.],\n",
              "       [0., 0., 1., ..., 0., 0., 0.],\n",
              "       ...,\n",
              "       [0., 0., 0., ..., 0., 0., 0.],\n",
              "       [0., 0., 0., ..., 0., 0., 0.],\n",
              "       [0., 0., 0., ..., 1., 0., 0.]], dtype=float32)"
            ]
          },
          "metadata": {},
          "execution_count": 79
        }
      ]
    },
    {
      "cell_type": "code",
      "source": [
        "x_val = np.array(J[:])"
      ],
      "metadata": {
        "id": "7-jfgJn3KxUR"
      },
      "execution_count": 80,
      "outputs": []
    },
    {
      "cell_type": "code",
      "source": [
        "with open('/content/drive/MyDrive/data_testing/data_testing.npy', 'rb') as fileTest:\n",
        "    M  = np.load(fileTest, allow_pickle=True)\n",
        "\n",
        "with open('/content/drive/MyDrive/label_testing/label_testing.npy', 'rb') as fileTestL:\n",
        "    N  = np.load(fileTestL, allow_pickle=True)\n",
        "\n",
        "\n",
        "M = normalize(M)\n",
        "L = np.ravel(N[:, [1]])\n",
        "\n",
        "Arousal_Test = np.ravel(N[:, [0]])\n",
        "Valence_Test = np.ravel(N[:, [1]])\n",
        "Domain_Test = np.ravel(N[:, [2]])\n",
        "Like_Test = np.ravel(N[:, [3]])"
      ],
      "metadata": {
        "id": "fGVVlwnBWEUk"
      },
      "execution_count": 81,
      "outputs": []
    },
    {
      "cell_type": "code",
      "source": [
        "x_test = np.array(M[:])"
      ],
      "metadata": {
        "id": "xEhfXmn7WG7U"
      },
      "execution_count": 82,
      "outputs": []
    },
    {
      "cell_type": "code",
      "source": [
        "print(N.shape)"
      ],
      "metadata": {
        "colab": {
          "base_uri": "https://localhost:8080/"
        },
        "id": "pt9qMwAuYaZV",
        "outputId": "5c626bd4-25e5-4488-82d0-0d773f637672"
      },
      "execution_count": 83,
      "outputs": [
        {
          "output_type": "stream",
          "name": "stdout",
          "text": [
            "(128, 8064)\n"
          ]
        }
      ]
    },
    {
      "cell_type": "code",
      "source": [
        "print(\"L indices:\", L)"
      ],
      "metadata": {
        "colab": {
          "base_uri": "https://localhost:8080/"
        },
        "id": "ZZTIWXidYfkj",
        "outputId": "a33ed849-3ac8-4439-ccd8-0487975127c6"
      },
      "execution_count": 84,
      "outputs": [
        {
          "output_type": "stream",
          "name": "stdout",
          "text": [
            "L indices: [-3.95329127e+00 -7.24817947e+00 -2.61060455e+00  1.60022210e+00\n",
            " -3.47287200e+00 -5.25782883e+01  3.84582238e+01 -3.83820740e+01\n",
            "  9.45556995e+00 -5.03097059e+00 -7.31120664e+00 -5.42835838e+01\n",
            "  3.46487266e+00 -1.31871228e+02  1.88593763e+01  2.92354509e+01\n",
            "  1.31848989e+00  3.75051203e+00 -1.43818369e+01  1.67252357e+01\n",
            "  2.14600223e+01  1.43714364e+01  2.73629835e+00 -2.58708273e+01\n",
            "  8.03422593e+00 -2.78479391e-01 -2.57613498e+01 -2.21130318e+00\n",
            " -2.04556068e+00 -3.80685913e+01 -4.76120090e+00 -5.93985573e+00\n",
            "  1.00847204e+00 -1.04424890e+00 -2.39848148e+01 -5.93131962e+00\n",
            " -3.63987155e+01 -1.27684395e+02 -6.22746671e+01 -3.17629473e+01\n",
            " -3.53548628e+01 -4.52943885e+01  2.62403928e+01 -3.27397185e+00\n",
            "  5.37706133e+00  1.81733888e+01  1.85040330e+00  7.10774339e+00\n",
            " -4.10700570e+00 -1.11167078e+01  3.64442842e+00 -2.21369596e+01\n",
            "  1.11066176e+01 -1.81529828e+01 -4.61631690e+00  5.20605997e+00\n",
            " -4.04849407e+00  1.37407486e+00  4.38866386e+00 -2.48200000e+01\n",
            "  3.58400921e+00 -8.48915665e+00  6.01125218e+00  4.28613977e+00\n",
            "  1.48784524e+00 -1.26361411e+01  7.83809173e-01  2.06604707e+01\n",
            " -1.81005083e+00  2.47488413e+01  2.08510099e+01  1.65326523e+00\n",
            " -1.12756118e+01  3.11993022e+01 -4.86194776e+01  1.65133924e+01\n",
            "  2.40753308e+00  1.38104342e+01  6.74605641e+00 -1.87696708e+01\n",
            "  6.12864144e-01  1.86089660e+00  3.62796446e+00  1.47620663e+01\n",
            " -2.25141036e+00 -3.10834535e+01 -6.28658244e+02  2.74550143e+02\n",
            "  5.59302540e+00  5.11166817e+00  3.83115817e-01  2.14413204e+00\n",
            " -4.15068573e+00  1.05100160e+01  2.13494117e+01 -4.42967665e+00\n",
            " -6.66798074e-01 -2.08746715e+01 -4.52991612e+01  1.90436948e+00\n",
            "  7.82281774e+00  1.49096406e+01  2.72437658e+00 -6.66697666e+01\n",
            " -4.47959418e+00 -2.08496374e+00  3.55848055e+00  2.66993341e+01\n",
            " -5.95449299e+00  2.65947437e+01 -1.84576162e+00 -1.84716097e+00\n",
            " -3.01979316e+01 -3.76957960e+00 -9.98619044e+00 -1.14244484e+01\n",
            " -1.30222904e+00 -6.65952434e+00 -2.48073197e+00 -2.19545980e+01\n",
            "  1.45146299e+01  5.59578782e+00 -5.48321399e-01 -3.21465372e+00\n",
            "  4.15102150e+01  4.03011951e+00 -4.67662186e+00 -1.51137600e+01]\n"
          ]
        }
      ]
    },
    {
      "cell_type": "code",
      "source": [
        "min_label = min(L)\n",
        "L = L - min_label\n",
        "y_test = to_categorical(L)\n",
        "y_test"
      ],
      "metadata": {
        "colab": {
          "base_uri": "https://localhost:8080/"
        },
        "id": "tUamL28ZYsc1",
        "outputId": "7e61773d-5576-4eb5-c55b-e96ef18802c6"
      },
      "execution_count": 85,
      "outputs": [
        {
          "output_type": "execute_result",
          "data": {
            "text/plain": [
              "array([[0., 0., 0., ..., 0., 0., 0.],\n",
              "       [0., 0., 0., ..., 0., 0., 0.],\n",
              "       [0., 0., 0., ..., 0., 0., 0.],\n",
              "       ...,\n",
              "       [0., 0., 0., ..., 0., 0., 0.],\n",
              "       [0., 0., 0., ..., 0., 0., 0.],\n",
              "       [0., 0., 0., ..., 0., 0., 0.]], dtype=float32)"
            ]
          },
          "metadata": {},
          "execution_count": 85
        }
      ]
    },
    {
      "cell_type": "code",
      "source": [
        "from sklearn.preprocessing import StandardScaler\n",
        "scaler = StandardScaler()\n",
        "x_train = scaler.fit_transform(x_train)\n",
        "x_val = scaler.fit_transform(x_val)\n",
        "x_test = scaler.fit_transform(x_test)"
      ],
      "metadata": {
        "id": "AqmgfPFPY7I7"
      },
      "execution_count": 90,
      "outputs": []
    },
    {
      "cell_type": "code",
      "source": [
        "x_train = x_train.reshape(x_train.shape[0],x_train.shape[1], 1)\n",
        "x_val = x_val.reshape(x_val.shape[0],x_val.shape[1], 1)\n",
        "x_test = x_test.reshape(x_test.shape[0],x_test.shape[1], 1)\n",
        "x_train\n",
        "x_test\n",
        "x_val"
      ],
      "metadata": {
        "colab": {
          "base_uri": "https://localhost:8080/"
        },
        "id": "3X_Xdk3EY9wm",
        "outputId": "76117fc4-b221-4e9c-bd23-c3077715d6ea"
      },
      "execution_count": 91,
      "outputs": [
        {
          "output_type": "execute_result",
          "data": {
            "text/plain": [
              "array([[[-0.01396073],\n",
              "        [-0.27366057],\n",
              "        [-0.08313386],\n",
              "        ...,\n",
              "        [-0.19718446],\n",
              "        [-0.01819731],\n",
              "        [-0.33145548]],\n",
              "\n",
              "       [[-0.68590024],\n",
              "        [ 0.36644433],\n",
              "        [ 1.10518969],\n",
              "        ...,\n",
              "        [-1.08888771],\n",
              "        [-0.82182566],\n",
              "        [ 0.25835985]],\n",
              "\n",
              "       [[ 0.10161039],\n",
              "        [-0.25542287],\n",
              "        [-0.59354699],\n",
              "        ...,\n",
              "        [-1.03058172],\n",
              "        [ 0.42735062],\n",
              "        [ 2.01047666]],\n",
              "\n",
              "       ...,\n",
              "\n",
              "       [[ 0.58136058],\n",
              "        [ 0.85062326],\n",
              "        [-0.70069902],\n",
              "        ...,\n",
              "        [-0.08660299],\n",
              "        [-0.05195905],\n",
              "        [ 0.39220041]],\n",
              "\n",
              "       [[-0.85321314],\n",
              "        [ 0.64132331],\n",
              "        [ 1.4443649 ],\n",
              "        ...,\n",
              "        [-0.06981828],\n",
              "        [-1.3577575 ],\n",
              "        [-1.97713091]],\n",
              "\n",
              "       [[ 0.20093834],\n",
              "        [-0.53287901],\n",
              "        [-0.68725511],\n",
              "        ...,\n",
              "        [ 1.41619704],\n",
              "        [-0.40536874],\n",
              "        [-1.48666726]]])"
            ]
          },
          "metadata": {},
          "execution_count": 91
        }
      ]
    },
    {
      "cell_type": "code",
      "source": [
        "x_train.shape\n"
      ],
      "metadata": {
        "colab": {
          "base_uri": "https://localhost:8080/"
        },
        "id": "U5GK8In4ZGRq",
        "outputId": "a942efd1-f7f2-485a-a009-8f574bdd545c"
      },
      "execution_count": 132,
      "outputs": [
        {
          "output_type": "execute_result",
          "data": {
            "text/plain": [
              "(1024, 8064, 1)"
            ]
          },
          "metadata": {},
          "execution_count": 132
        }
      ]
    },
    {
      "cell_type": "code",
      "source": [
        "y_val.shape"
      ],
      "metadata": {
        "colab": {
          "base_uri": "https://localhost:8080/"
        },
        "id": "tTF-qIDpLZrR",
        "outputId": "20a33977-e1a0-4769-de9b-4ca3b71fb69d"
      },
      "execution_count": 104,
      "outputs": [
        {
          "output_type": "execute_result",
          "data": {
            "text/plain": [
              "(128, 692)"
            ]
          },
          "metadata": {},
          "execution_count": 104
        }
      ]
    },
    {
      "cell_type": "code",
      "source": [
        "y_test.shape"
      ],
      "metadata": {
        "colab": {
          "base_uri": "https://localhost:8080/"
        },
        "id": "LkQ6RnVvLbcv",
        "outputId": "526772c0-958c-4122-f81a-261eeee5f38a"
      },
      "execution_count": 105,
      "outputs": [
        {
          "output_type": "execute_result",
          "data": {
            "text/plain": [
              "(128, 904)"
            ]
          },
          "metadata": {},
          "execution_count": 105
        }
      ]
    },
    {
      "cell_type": "code",
      "source": [
        "batch_size = 256\n",
        "num_classes = 10\n",
        "epochs = 50\n",
        "input_shape=(x_train.shape[1], 1)"
      ],
      "metadata": {
        "id": "6c4JoKVoZJhj"
      },
      "execution_count": 122,
      "outputs": []
    },
    {
      "cell_type": "code",
      "source": [
        "print(input_shape)"
      ],
      "metadata": {
        "colab": {
          "base_uri": "https://localhost:8080/"
        },
        "id": "K9V-a4VlZLrY",
        "outputId": "e9acdec8-073f-4306-f277-f22261a6b67d"
      },
      "execution_count": 123,
      "outputs": [
        {
          "output_type": "stream",
          "name": "stdout",
          "text": [
            "(8064, 1)\n"
          ]
        }
      ]
    },
    {
      "cell_type": "code",
      "source": [
        "num_classes = y_train.shape[1]\n",
        "print(\"Number of classes:\", num_classes)"
      ],
      "metadata": {
        "colab": {
          "base_uri": "https://localhost:8080/"
        },
        "id": "hIHV5t6VdoRY",
        "outputId": "ca73939a-07c2-47e4-dce6-f48a4ad64ec8"
      },
      "execution_count": 124,
      "outputs": [
        {
          "output_type": "stream",
          "name": "stdout",
          "text": [
            "Number of classes: 2\n"
          ]
        }
      ]
    },
    {
      "cell_type": "code",
      "source": [
        "from keras.layers import Convolution1D, ZeroPadding1D, MaxPooling1D, BatchNormalization, Activation, Dropout, Flatten, Dense,  Bidirectional, LSTM\n",
        "from keras.regularizers import l2"
      ],
      "metadata": {
        "id": "Rs23wnEiZO23"
      },
      "execution_count": 125,
      "outputs": []
    },
    {
      "cell_type": "code",
      "source": [
        "from keras.callbacks import EarlyStopping"
      ],
      "metadata": {
        "id": "ezw_wYAvM-uv"
      },
      "execution_count": 126,
      "outputs": []
    },
    {
      "cell_type": "code",
      "source": [
        "model = Sequential()\n",
        "intput_shape=(x_train.shape[1], 1)\n",
        "model.add(Conv1D(128, kernel_size=3,padding = 'same',activation='relu', input_shape=input_shape))\n",
        "model.add(BatchNormalization())\n",
        "model.add(MaxPooling1D(pool_size=(2)))\n",
        "#model.add(Conv1D(128,kernel_size=3,padding = 'same', activation='relu'))\n",
        "#model.add(BatchNormalization())\n",
        "#model.add(MaxPooling1D(pool_size=(2)))\n",
        "model.add(Bidirectional(LSTM(64, return_sequences=True)))\n",
        "model.add(Bidirectional(LSTM(32, return_sequences=True)))\n",
        "model.add(Flatten())\n",
        "model.add(Dense(32, activation='relu'))\n",
        "model.add(Dropout(0.2))\n",
        "model.add(Dense(num_classes, activation='softmax'))\n",
        "model.summary()"
      ],
      "metadata": {
        "colab": {
          "base_uri": "https://localhost:8080/"
        },
        "id": "gLKg5KDRaKl-",
        "outputId": "acec8c28-d21f-4d07-f072-ede2b8e042a2"
      },
      "execution_count": 127,
      "outputs": [
        {
          "output_type": "stream",
          "name": "stdout",
          "text": [
            "Model: \"sequential_5\"\n",
            "_________________________________________________________________\n",
            " Layer (type)                Output Shape              Param #   \n",
            "=================================================================\n",
            " conv1d_5 (Conv1D)           (None, 8064, 128)         512       \n",
            "                                                                 \n",
            " batch_normalization_5 (Batc  (None, 8064, 128)        512       \n",
            " hNormalization)                                                 \n",
            "                                                                 \n",
            " max_pooling1d_5 (MaxPooling  (None, 4032, 128)        0         \n",
            " 1D)                                                             \n",
            "                                                                 \n",
            " bidirectional_10 (Bidirecti  (None, 4032, 128)        98816     \n",
            " onal)                                                           \n",
            "                                                                 \n",
            " bidirectional_11 (Bidirecti  (None, 4032, 64)         41216     \n",
            " onal)                                                           \n",
            "                                                                 \n",
            " flatten_5 (Flatten)         (None, 258048)            0         \n",
            "                                                                 \n",
            " dense_10 (Dense)            (None, 32)                8257568   \n",
            "                                                                 \n",
            " dropout_5 (Dropout)         (None, 32)                0         \n",
            "                                                                 \n",
            " dense_11 (Dense)            (None, 2)                 66        \n",
            "                                                                 \n",
            "=================================================================\n",
            "Total params: 8,398,690\n",
            "Trainable params: 8,398,434\n",
            "Non-trainable params: 256\n",
            "_________________________________________________________________\n"
          ]
        }
      ]
    },
    {
      "cell_type": "code",
      "source": [
        "model.compile(loss=keras.losses.categorical_crossentropy,\n",
        "              optimizer='adam',\n",
        "              metrics=['accuracy'])"
      ],
      "metadata": {
        "id": "oUt6E5StafBv"
      },
      "execution_count": 128,
      "outputs": []
    },
    {
      "cell_type": "code",
      "source": [
        "early_stopping = EarlyStopping(monitor='val_loss', patience=5, restore_best_weights=True)"
      ],
      "metadata": {
        "id": "tgSR4bXQOCW-"
      },
      "execution_count": 129,
      "outputs": []
    },
    {
      "cell_type": "code",
      "source": [
        "history = model.fit(x_train, y_train_encoded,\n",
        "          batch_size=batch_size,\n",
        "          epochs=epochs,\n",
        "          verbose=1,\n",
        "          validation_data=(x_val, y_val_encoded),\n",
        "          callbacks=[early_stopping])"
      ],
      "metadata": {
        "colab": {
          "base_uri": "https://localhost:8080/",
          "height": 442
        },
        "id": "kEUWjXDjahdn",
        "outputId": "e41b7ccf-0c9e-4d8a-acdb-1cb1242dc69c"
      },
      "execution_count": 131,
      "outputs": [
        {
          "output_type": "error",
          "ename": "ValueError",
          "evalue": "ignored",
          "traceback": [
            "\u001b[0;31m---------------------------------------------------------------------------\u001b[0m",
            "\u001b[0;31mValueError\u001b[0m                                Traceback (most recent call last)",
            "\u001b[0;32m<ipython-input-131-2dceb42758bd>\u001b[0m in \u001b[0;36m<cell line: 1>\u001b[0;34m()\u001b[0m\n\u001b[0;32m----> 1\u001b[0;31m history = model.fit(x_train, y_train_encoded,\n\u001b[0m\u001b[1;32m      2\u001b[0m           \u001b[0mbatch_size\u001b[0m\u001b[0;34m=\u001b[0m\u001b[0mbatch_size\u001b[0m\u001b[0;34m,\u001b[0m\u001b[0;34m\u001b[0m\u001b[0;34m\u001b[0m\u001b[0m\n\u001b[1;32m      3\u001b[0m           \u001b[0mepochs\u001b[0m\u001b[0;34m=\u001b[0m\u001b[0mepochs\u001b[0m\u001b[0;34m,\u001b[0m\u001b[0;34m\u001b[0m\u001b[0;34m\u001b[0m\u001b[0m\n\u001b[1;32m      4\u001b[0m           \u001b[0mverbose\u001b[0m\u001b[0;34m=\u001b[0m\u001b[0;36m1\u001b[0m\u001b[0;34m,\u001b[0m\u001b[0;34m\u001b[0m\u001b[0;34m\u001b[0m\u001b[0m\n\u001b[1;32m      5\u001b[0m           \u001b[0mvalidation_data\u001b[0m\u001b[0;34m=\u001b[0m\u001b[0;34m(\u001b[0m\u001b[0mx_val\u001b[0m\u001b[0;34m,\u001b[0m \u001b[0my_val_encoded\u001b[0m\u001b[0;34m)\u001b[0m\u001b[0;34m,\u001b[0m\u001b[0;34m\u001b[0m\u001b[0;34m\u001b[0m\u001b[0m\n",
            "\u001b[0;32m/usr/local/lib/python3.10/dist-packages/keras/utils/traceback_utils.py\u001b[0m in \u001b[0;36merror_handler\u001b[0;34m(*args, **kwargs)\u001b[0m\n\u001b[1;32m     68\u001b[0m             \u001b[0;31m# To get the full stack trace, call:\u001b[0m\u001b[0;34m\u001b[0m\u001b[0;34m\u001b[0m\u001b[0m\n\u001b[1;32m     69\u001b[0m             \u001b[0;31m# `tf.debugging.disable_traceback_filtering()`\u001b[0m\u001b[0;34m\u001b[0m\u001b[0;34m\u001b[0m\u001b[0m\n\u001b[0;32m---> 70\u001b[0;31m             \u001b[0;32mraise\u001b[0m \u001b[0me\u001b[0m\u001b[0;34m.\u001b[0m\u001b[0mwith_traceback\u001b[0m\u001b[0;34m(\u001b[0m\u001b[0mfiltered_tb\u001b[0m\u001b[0;34m)\u001b[0m \u001b[0;32mfrom\u001b[0m \u001b[0;32mNone\u001b[0m\u001b[0;34m\u001b[0m\u001b[0;34m\u001b[0m\u001b[0m\n\u001b[0m\u001b[1;32m     71\u001b[0m         \u001b[0;32mfinally\u001b[0m\u001b[0;34m:\u001b[0m\u001b[0;34m\u001b[0m\u001b[0;34m\u001b[0m\u001b[0m\n\u001b[1;32m     72\u001b[0m             \u001b[0;32mdel\u001b[0m \u001b[0mfiltered_tb\u001b[0m\u001b[0;34m\u001b[0m\u001b[0;34m\u001b[0m\u001b[0m\n",
            "\u001b[0;32m/usr/local/lib/python3.10/dist-packages/keras/engine/data_adapter.py\u001b[0m in \u001b[0;36m_check_data_cardinality\u001b[0;34m(data)\u001b[0m\n\u001b[1;32m   1850\u001b[0m             )\n\u001b[1;32m   1851\u001b[0m         \u001b[0mmsg\u001b[0m \u001b[0;34m+=\u001b[0m \u001b[0;34m\"Make sure all arrays contain the same number of samples.\"\u001b[0m\u001b[0;34m\u001b[0m\u001b[0;34m\u001b[0m\u001b[0m\n\u001b[0;32m-> 1852\u001b[0;31m         \u001b[0;32mraise\u001b[0m \u001b[0mValueError\u001b[0m\u001b[0;34m(\u001b[0m\u001b[0mmsg\u001b[0m\u001b[0;34m)\u001b[0m\u001b[0;34m\u001b[0m\u001b[0;34m\u001b[0m\u001b[0m\n\u001b[0m\u001b[1;32m   1853\u001b[0m \u001b[0;34m\u001b[0m\u001b[0m\n\u001b[1;32m   1854\u001b[0m \u001b[0;34m\u001b[0m\u001b[0m\n",
            "\u001b[0;31mValueError\u001b[0m: Data cardinality is ambiguous:\n  x sizes: 1024\n  y sizes: 630784\nMake sure all arrays contain the same number of samples."
          ]
        }
      ]
    }
  ]
}